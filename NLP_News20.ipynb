{
  "nbformat": 4,
  "nbformat_minor": 0,
  "metadata": {
    "colab": {
      "provenance": []
    },
    "kernelspec": {
      "name": "python3",
      "display_name": "Python 3"
    },
    "language_info": {
      "name": "python"
    }
  },
  "cells": [
    {
      "cell_type": "code",
      "execution_count": 1,
      "metadata": {
        "id": "zfI-C276qV7K"
      },
      "outputs": [],
      "source": [
        "import pandas as pd\n",
        "import re\n",
        "import numpy as np\n",
        "from sklearn.datasets import fetch_20newsgroups\n",
        "import nltk\n",
        "from nltk.stem import WordNetLemmatizer\n",
        "from nltk.corpus import stopwords\n",
        "\n",
        "import gensim\n",
        "from gensim import corpora\n",
        "from gensim.models import LdaModel\n",
        "from gensim.models.coherencemodel import CoherenceModel\n"
      ]
    },
    {
      "cell_type": "code",
      "source": [
        "newsgroups_train = fetch_20newsgroups(subset=\"train\")\n",
        "\n",
        "df = pd.DataFrame({'post':newsgroups_train['data'],'target': newsgroups_train['target']})\n",
        "df['target_names'] = df['target'].apply(lambda t: newsgroups_train)\n",
        "df.head()"
      ],
      "metadata": {
        "id": "89nhBlFErHul",
        "colab": {
          "base_uri": "https://localhost:8080/",
          "height": 206
        },
        "outputId": "4accef14-d7c3-4f26-eaed-f9f4c6f8ccb0"
      },
      "execution_count": 2,
      "outputs": [
        {
          "output_type": "execute_result",
          "data": {
            "text/plain": [
              "                                                post  target  \\\n",
              "0  From: lerxst@wam.umd.edu (where's my thing)\\nS...       7   \n",
              "1  From: guykuo@carson.u.washington.edu (Guy Kuo)...       4   \n",
              "2  From: twillis@ec.ecn.purdue.edu (Thomas E Will...       4   \n",
              "3  From: jgreen@amber (Joe Green)\\nSubject: Re: W...       1   \n",
              "4  From: jcm@head-cfa.harvard.edu (Jonathan McDow...      14   \n",
              "\n",
              "                                        target_names  \n",
              "0  {'data': ['From: lerxst@wam.umd.edu (where's m...  \n",
              "1  {'data': ['From: lerxst@wam.umd.edu (where's m...  \n",
              "2  {'data': ['From: lerxst@wam.umd.edu (where's m...  \n",
              "3  {'data': ['From: lerxst@wam.umd.edu (where's m...  \n",
              "4  {'data': ['From: lerxst@wam.umd.edu (where's m...  "
            ],
            "text/html": [
              "\n",
              "  <div id=\"df-64fb64f1-5931-487a-ae8f-0c826e54d03b\">\n",
              "    <div class=\"colab-df-container\">\n",
              "      <div>\n",
              "<style scoped>\n",
              "    .dataframe tbody tr th:only-of-type {\n",
              "        vertical-align: middle;\n",
              "    }\n",
              "\n",
              "    .dataframe tbody tr th {\n",
              "        vertical-align: top;\n",
              "    }\n",
              "\n",
              "    .dataframe thead th {\n",
              "        text-align: right;\n",
              "    }\n",
              "</style>\n",
              "<table border=\"1\" class=\"dataframe\">\n",
              "  <thead>\n",
              "    <tr style=\"text-align: right;\">\n",
              "      <th></th>\n",
              "      <th>post</th>\n",
              "      <th>target</th>\n",
              "      <th>target_names</th>\n",
              "    </tr>\n",
              "  </thead>\n",
              "  <tbody>\n",
              "    <tr>\n",
              "      <th>0</th>\n",
              "      <td>From: lerxst@wam.umd.edu (where's my thing)\\nS...</td>\n",
              "      <td>7</td>\n",
              "      <td>{'data': ['From: lerxst@wam.umd.edu (where's m...</td>\n",
              "    </tr>\n",
              "    <tr>\n",
              "      <th>1</th>\n",
              "      <td>From: guykuo@carson.u.washington.edu (Guy Kuo)...</td>\n",
              "      <td>4</td>\n",
              "      <td>{'data': ['From: lerxst@wam.umd.edu (where's m...</td>\n",
              "    </tr>\n",
              "    <tr>\n",
              "      <th>2</th>\n",
              "      <td>From: twillis@ec.ecn.purdue.edu (Thomas E Will...</td>\n",
              "      <td>4</td>\n",
              "      <td>{'data': ['From: lerxst@wam.umd.edu (where's m...</td>\n",
              "    </tr>\n",
              "    <tr>\n",
              "      <th>3</th>\n",
              "      <td>From: jgreen@amber (Joe Green)\\nSubject: Re: W...</td>\n",
              "      <td>1</td>\n",
              "      <td>{'data': ['From: lerxst@wam.umd.edu (where's m...</td>\n",
              "    </tr>\n",
              "    <tr>\n",
              "      <th>4</th>\n",
              "      <td>From: jcm@head-cfa.harvard.edu (Jonathan McDow...</td>\n",
              "      <td>14</td>\n",
              "      <td>{'data': ['From: lerxst@wam.umd.edu (where's m...</td>\n",
              "    </tr>\n",
              "  </tbody>\n",
              "</table>\n",
              "</div>\n",
              "      <button class=\"colab-df-convert\" onclick=\"convertToInteractive('df-64fb64f1-5931-487a-ae8f-0c826e54d03b')\"\n",
              "              title=\"Convert this dataframe to an interactive table.\"\n",
              "              style=\"display:none;\">\n",
              "        \n",
              "  <svg xmlns=\"http://www.w3.org/2000/svg\" height=\"24px\"viewBox=\"0 0 24 24\"\n",
              "       width=\"24px\">\n",
              "    <path d=\"M0 0h24v24H0V0z\" fill=\"none\"/>\n",
              "    <path d=\"M18.56 5.44l.94 2.06.94-2.06 2.06-.94-2.06-.94-.94-2.06-.94 2.06-2.06.94zm-11 1L8.5 8.5l.94-2.06 2.06-.94-2.06-.94L8.5 2.5l-.94 2.06-2.06.94zm10 10l.94 2.06.94-2.06 2.06-.94-2.06-.94-.94-2.06-.94 2.06-2.06.94z\"/><path d=\"M17.41 7.96l-1.37-1.37c-.4-.4-.92-.59-1.43-.59-.52 0-1.04.2-1.43.59L10.3 9.45l-7.72 7.72c-.78.78-.78 2.05 0 2.83L4 21.41c.39.39.9.59 1.41.59.51 0 1.02-.2 1.41-.59l7.78-7.78 2.81-2.81c.8-.78.8-2.07 0-2.86zM5.41 20L4 18.59l7.72-7.72 1.47 1.35L5.41 20z\"/>\n",
              "  </svg>\n",
              "      </button>\n",
              "      \n",
              "  <style>\n",
              "    .colab-df-container {\n",
              "      display:flex;\n",
              "      flex-wrap:wrap;\n",
              "      gap: 12px;\n",
              "    }\n",
              "\n",
              "    .colab-df-convert {\n",
              "      background-color: #E8F0FE;\n",
              "      border: none;\n",
              "      border-radius: 50%;\n",
              "      cursor: pointer;\n",
              "      display: none;\n",
              "      fill: #1967D2;\n",
              "      height: 32px;\n",
              "      padding: 0 0 0 0;\n",
              "      width: 32px;\n",
              "    }\n",
              "\n",
              "    .colab-df-convert:hover {\n",
              "      background-color: #E2EBFA;\n",
              "      box-shadow: 0px 1px 2px rgba(60, 64, 67, 0.3), 0px 1px 3px 1px rgba(60, 64, 67, 0.15);\n",
              "      fill: #174EA6;\n",
              "    }\n",
              "\n",
              "    [theme=dark] .colab-df-convert {\n",
              "      background-color: #3B4455;\n",
              "      fill: #D2E3FC;\n",
              "    }\n",
              "\n",
              "    [theme=dark] .colab-df-convert:hover {\n",
              "      background-color: #434B5C;\n",
              "      box-shadow: 0px 1px 3px 1px rgba(0, 0, 0, 0.15);\n",
              "      filter: drop-shadow(0px 1px 2px rgba(0, 0, 0, 0.3));\n",
              "      fill: #FFFFFF;\n",
              "    }\n",
              "  </style>\n",
              "\n",
              "      <script>\n",
              "        const buttonEl =\n",
              "          document.querySelector('#df-64fb64f1-5931-487a-ae8f-0c826e54d03b button.colab-df-convert');\n",
              "        buttonEl.style.display =\n",
              "          google.colab.kernel.accessAllowed ? 'block' : 'none';\n",
              "\n",
              "        async function convertToInteractive(key) {\n",
              "          const element = document.querySelector('#df-64fb64f1-5931-487a-ae8f-0c826e54d03b');\n",
              "          const dataTable =\n",
              "            await google.colab.kernel.invokeFunction('convertToInteractive',\n",
              "                                                     [key], {});\n",
              "          if (!dataTable) return;\n",
              "\n",
              "          const docLinkHtml = 'Like what you see? Visit the ' +\n",
              "            '<a target=\"_blank\" href=https://colab.research.google.com/notebooks/data_table.ipynb>data table notebook</a>'\n",
              "            + ' to learn more about interactive tables.';\n",
              "          element.innerHTML = '';\n",
              "          dataTable['output_type'] = 'display_data';\n",
              "          await google.colab.output.renderOutput(dataTable, element);\n",
              "          const docLink = document.createElement('div');\n",
              "          docLink.innerHTML = docLinkHtml;\n",
              "          element.appendChild(docLink);\n",
              "        }\n",
              "      </script>\n",
              "    </div>\n",
              "  </div>\n",
              "  "
            ]
          },
          "metadata": {},
          "execution_count": 2
        }
      ]
    },
    {
      "cell_type": "code",
      "source": [
        "def remove_urls(text):\n",
        "  url_pattern = re.compile(r'https?://\\s+|www\\.\\s+')\n",
        "  return url_pattern.sub(r'',text)\n",
        "\n",
        "def remove_html(text):\n",
        "  html_pattern = re.compile('')\n",
        "  return html_pattern.sub(r'',text)\n",
        "\n",
        "def remove_emails(text):\n",
        "  email_pattern = re.compile(r'\\S+@\\S+')\n",
        "  return email_pattern.sub(r'', text)\n",
        "\n",
        "\n",
        "def remove_non_alpha(text):\n",
        "  return re.sub(\"[^A-Z a-z]+\", \" \", str(text))\n",
        "\n",
        "def preprocess_text(text):\n",
        "  t= remove_urls(text)\n",
        "  t = remove_html(t)\n",
        "  t = remove_emails(t)\n",
        "  t = remove_non_alpha(t)\n",
        "  return t\n",
        "\n",
        "def lemmatize_words(text,lemmatizer):\n",
        "  return \" \".join([lemmatizer.lemmatize(word) for word in text.split()])\n",
        "\n",
        "def remove_stopwords(text,stopwords):\n",
        "  return \" \".join([word for word in str(text).split() if word not in stopwords.words('english')])\n",
        "\n",
        "df['post_preprocessed'] = df['post'].apply(preprocess_text).str.lower()\n",
        "\n",
        "print(\"lemming.....\")\n",
        "\n",
        "\n",
        "\n"
      ],
      "metadata": {
        "colab": {
          "base_uri": "https://localhost:8080/"
        },
        "id": "dFMoLTlytLQd",
        "outputId": "4e1e2355-4578-4602-c55f-3cfd0b1395fd"
      },
      "execution_count": 3,
      "outputs": [
        {
          "output_type": "stream",
          "name": "stdout",
          "text": [
            "lemming.....\n"
          ]
        }
      ]
    },
    {
      "cell_type": "code",
      "source": [
        "nltk.download('wordnet')\n",
        "nltk.download('stopwords')\n",
        "\n",
        "lemmatizer = WordNetLemmatizer()\n",
        "df['post_final'] = df['post_preprocessed'].apply(lambda post: lemmatize_words)\n",
        "df['post_final'] = df['post_final'].apply(lambda post: remove_stopwords(post, stopwords))\n",
        "\n",
        "\n",
        "print('remove stopwords......')\n",
        "df.head()"
      ],
      "metadata": {
        "id": "EiOImbcWxHPU",
        "colab": {
          "base_uri": "https://localhost:8080/",
          "height": 423
        },
        "outputId": "a042bc27-7acd-44b1-d85a-7259eb8dd878"
      },
      "execution_count": 4,
      "outputs": [
        {
          "output_type": "stream",
          "name": "stderr",
          "text": [
            "[nltk_data] Downloading package wordnet to /root/nltk_data...\n",
            "[nltk_data]   Package wordnet is already up-to-date!\n",
            "[nltk_data] Downloading package stopwords to /root/nltk_data...\n",
            "[nltk_data]   Package stopwords is already up-to-date!\n"
          ]
        },
        {
          "output_type": "stream",
          "name": "stdout",
          "text": [
            "remove stopwords......\n"
          ]
        },
        {
          "output_type": "execute_result",
          "data": {
            "text/plain": [
              "                                                post  target  \\\n",
              "0  From: lerxst@wam.umd.edu (where's my thing)\\nS...       7   \n",
              "1  From: guykuo@carson.u.washington.edu (Guy Kuo)...       4   \n",
              "2  From: twillis@ec.ecn.purdue.edu (Thomas E Will...       4   \n",
              "3  From: jgreen@amber (Joe Green)\\nSubject: Re: W...       1   \n",
              "4  From: jcm@head-cfa.harvard.edu (Jonathan McDow...      14   \n",
              "\n",
              "                                        target_names  \\\n",
              "0  {'data': ['From: lerxst@wam.umd.edu (where's m...   \n",
              "1  {'data': ['From: lerxst@wam.umd.edu (where's m...   \n",
              "2  {'data': ['From: lerxst@wam.umd.edu (where's m...   \n",
              "3  {'data': ['From: lerxst@wam.umd.edu (where's m...   \n",
              "4  {'data': ['From: lerxst@wam.umd.edu (where's m...   \n",
              "\n",
              "                                   post_preprocessed  \\\n",
              "0  from    where s my thing subject  what car is ...   \n",
              "1  from    guy kuo subject  si clock poll   final...   \n",
              "2  from    thomas e willis subject  pb questions ...   \n",
              "3  from    joe green subject  re  weitek p   orga...   \n",
              "4  from    jonathan mcdowell subject  re  shuttle...   \n",
              "\n",
              "                                  post_final  \n",
              "0  <function lemmatize_words 0x7f2630d31cf0>  \n",
              "1  <function lemmatize_words 0x7f2630d31cf0>  \n",
              "2  <function lemmatize_words 0x7f2630d31cf0>  \n",
              "3  <function lemmatize_words 0x7f2630d31cf0>  \n",
              "4  <function lemmatize_words 0x7f2630d31cf0>  "
            ],
            "text/html": [
              "\n",
              "  <div id=\"df-f55f8329-a5c3-4a16-8f24-4821288fc798\">\n",
              "    <div class=\"colab-df-container\">\n",
              "      <div>\n",
              "<style scoped>\n",
              "    .dataframe tbody tr th:only-of-type {\n",
              "        vertical-align: middle;\n",
              "    }\n",
              "\n",
              "    .dataframe tbody tr th {\n",
              "        vertical-align: top;\n",
              "    }\n",
              "\n",
              "    .dataframe thead th {\n",
              "        text-align: right;\n",
              "    }\n",
              "</style>\n",
              "<table border=\"1\" class=\"dataframe\">\n",
              "  <thead>\n",
              "    <tr style=\"text-align: right;\">\n",
              "      <th></th>\n",
              "      <th>post</th>\n",
              "      <th>target</th>\n",
              "      <th>target_names</th>\n",
              "      <th>post_preprocessed</th>\n",
              "      <th>post_final</th>\n",
              "    </tr>\n",
              "  </thead>\n",
              "  <tbody>\n",
              "    <tr>\n",
              "      <th>0</th>\n",
              "      <td>From: lerxst@wam.umd.edu (where's my thing)\\nS...</td>\n",
              "      <td>7</td>\n",
              "      <td>{'data': ['From: lerxst@wam.umd.edu (where's m...</td>\n",
              "      <td>from    where s my thing subject  what car is ...</td>\n",
              "      <td>&lt;function lemmatize_words 0x7f2630d31cf0&gt;</td>\n",
              "    </tr>\n",
              "    <tr>\n",
              "      <th>1</th>\n",
              "      <td>From: guykuo@carson.u.washington.edu (Guy Kuo)...</td>\n",
              "      <td>4</td>\n",
              "      <td>{'data': ['From: lerxst@wam.umd.edu (where's m...</td>\n",
              "      <td>from    guy kuo subject  si clock poll   final...</td>\n",
              "      <td>&lt;function lemmatize_words 0x7f2630d31cf0&gt;</td>\n",
              "    </tr>\n",
              "    <tr>\n",
              "      <th>2</th>\n",
              "      <td>From: twillis@ec.ecn.purdue.edu (Thomas E Will...</td>\n",
              "      <td>4</td>\n",
              "      <td>{'data': ['From: lerxst@wam.umd.edu (where's m...</td>\n",
              "      <td>from    thomas e willis subject  pb questions ...</td>\n",
              "      <td>&lt;function lemmatize_words 0x7f2630d31cf0&gt;</td>\n",
              "    </tr>\n",
              "    <tr>\n",
              "      <th>3</th>\n",
              "      <td>From: jgreen@amber (Joe Green)\\nSubject: Re: W...</td>\n",
              "      <td>1</td>\n",
              "      <td>{'data': ['From: lerxst@wam.umd.edu (where's m...</td>\n",
              "      <td>from    joe green subject  re  weitek p   orga...</td>\n",
              "      <td>&lt;function lemmatize_words 0x7f2630d31cf0&gt;</td>\n",
              "    </tr>\n",
              "    <tr>\n",
              "      <th>4</th>\n",
              "      <td>From: jcm@head-cfa.harvard.edu (Jonathan McDow...</td>\n",
              "      <td>14</td>\n",
              "      <td>{'data': ['From: lerxst@wam.umd.edu (where's m...</td>\n",
              "      <td>from    jonathan mcdowell subject  re  shuttle...</td>\n",
              "      <td>&lt;function lemmatize_words 0x7f2630d31cf0&gt;</td>\n",
              "    </tr>\n",
              "  </tbody>\n",
              "</table>\n",
              "</div>\n",
              "      <button class=\"colab-df-convert\" onclick=\"convertToInteractive('df-f55f8329-a5c3-4a16-8f24-4821288fc798')\"\n",
              "              title=\"Convert this dataframe to an interactive table.\"\n",
              "              style=\"display:none;\">\n",
              "        \n",
              "  <svg xmlns=\"http://www.w3.org/2000/svg\" height=\"24px\"viewBox=\"0 0 24 24\"\n",
              "       width=\"24px\">\n",
              "    <path d=\"M0 0h24v24H0V0z\" fill=\"none\"/>\n",
              "    <path d=\"M18.56 5.44l.94 2.06.94-2.06 2.06-.94-2.06-.94-.94-2.06-.94 2.06-2.06.94zm-11 1L8.5 8.5l.94-2.06 2.06-.94-2.06-.94L8.5 2.5l-.94 2.06-2.06.94zm10 10l.94 2.06.94-2.06 2.06-.94-2.06-.94-.94-2.06-.94 2.06-2.06.94z\"/><path d=\"M17.41 7.96l-1.37-1.37c-.4-.4-.92-.59-1.43-.59-.52 0-1.04.2-1.43.59L10.3 9.45l-7.72 7.72c-.78.78-.78 2.05 0 2.83L4 21.41c.39.39.9.59 1.41.59.51 0 1.02-.2 1.41-.59l7.78-7.78 2.81-2.81c.8-.78.8-2.07 0-2.86zM5.41 20L4 18.59l7.72-7.72 1.47 1.35L5.41 20z\"/>\n",
              "  </svg>\n",
              "      </button>\n",
              "      \n",
              "  <style>\n",
              "    .colab-df-container {\n",
              "      display:flex;\n",
              "      flex-wrap:wrap;\n",
              "      gap: 12px;\n",
              "    }\n",
              "\n",
              "    .colab-df-convert {\n",
              "      background-color: #E8F0FE;\n",
              "      border: none;\n",
              "      border-radius: 50%;\n",
              "      cursor: pointer;\n",
              "      display: none;\n",
              "      fill: #1967D2;\n",
              "      height: 32px;\n",
              "      padding: 0 0 0 0;\n",
              "      width: 32px;\n",
              "    }\n",
              "\n",
              "    .colab-df-convert:hover {\n",
              "      background-color: #E2EBFA;\n",
              "      box-shadow: 0px 1px 2px rgba(60, 64, 67, 0.3), 0px 1px 3px 1px rgba(60, 64, 67, 0.15);\n",
              "      fill: #174EA6;\n",
              "    }\n",
              "\n",
              "    [theme=dark] .colab-df-convert {\n",
              "      background-color: #3B4455;\n",
              "      fill: #D2E3FC;\n",
              "    }\n",
              "\n",
              "    [theme=dark] .colab-df-convert:hover {\n",
              "      background-color: #434B5C;\n",
              "      box-shadow: 0px 1px 3px 1px rgba(0, 0, 0, 0.15);\n",
              "      filter: drop-shadow(0px 1px 2px rgba(0, 0, 0, 0.3));\n",
              "      fill: #FFFFFF;\n",
              "    }\n",
              "  </style>\n",
              "\n",
              "      <script>\n",
              "        const buttonEl =\n",
              "          document.querySelector('#df-f55f8329-a5c3-4a16-8f24-4821288fc798 button.colab-df-convert');\n",
              "        buttonEl.style.display =\n",
              "          google.colab.kernel.accessAllowed ? 'block' : 'none';\n",
              "\n",
              "        async function convertToInteractive(key) {\n",
              "          const element = document.querySelector('#df-f55f8329-a5c3-4a16-8f24-4821288fc798');\n",
              "          const dataTable =\n",
              "            await google.colab.kernel.invokeFunction('convertToInteractive',\n",
              "                                                     [key], {});\n",
              "          if (!dataTable) return;\n",
              "\n",
              "          const docLinkHtml = 'Like what you see? Visit the ' +\n",
              "            '<a target=\"_blank\" href=https://colab.research.google.com/notebooks/data_table.ipynb>data table notebook</a>'\n",
              "            + ' to learn more about interactive tables.';\n",
              "          element.innerHTML = '';\n",
              "          dataTable['output_type'] = 'display_data';\n",
              "          await google.colab.output.renderOutput(dataTable, element);\n",
              "          const docLink = document.createElement('div');\n",
              "          docLink.innerHTML = docLinkHtml;\n",
              "          element.appendChild(docLink);\n",
              "        }\n",
              "      </script>\n",
              "    </div>\n",
              "  </div>\n",
              "  "
            ]
          },
          "metadata": {},
          "execution_count": 4
        }
      ]
    },
    {
      "cell_type": "code",
      "source": [
        "#BOW\n",
        "posts = [x.split(' ') for x in df['post_final']]\n",
        "id2word = corpora.Dictionary(posts)\n",
        "corpus_tf = [id2word.doc2bow(text) for text in posts]\n",
        "print(corpus_tf[0])"
      ],
      "metadata": {
        "colab": {
          "base_uri": "https://localhost:8080/"
        },
        "id": "VG28lPu-kqJA",
        "outputId": "5d1bf58d-e1e8-4ac3-c72b-fc6c8b0d8fb5"
      },
      "execution_count": 6,
      "outputs": [
        {
          "output_type": "stream",
          "name": "stdout",
          "text": [
            "[(0, 1), (1, 1), (2, 1)]\n"
          ]
        }
      ]
    },
    {
      "cell_type": "code",
      "source": [
        "from gensim.models.ldamulticore import LdaMulticore\n",
        "\n",
        "model = LdaMulticore(corpus=corpus_tf,id2word = id2word, num_topics = 20, alpha = 1, eta = 0.1, random_state = 10)\n",
        "\n",
        "coherence = CoherenceModel(model = model, texts = posts, dictionary= id2word, coherence = 'u_mass')\n",
        "\n",
        "print(coherence.get_coherence())\n",
        "print(model.show_topics())"
      ],
      "metadata": {
        "colab": {
          "base_uri": "https://localhost:8080/"
        },
        "id": "LtinRrIXls9D",
        "outputId": "479f947b-f95c-419e-d13d-b85af6f2bb1d"
      },
      "execution_count": 7,
      "outputs": [
        {
          "output_type": "stream",
          "name": "stderr",
          "text": [
            "WARNING:gensim.models.ldamulticore:too few updates, training might not converge; consider increasing the number of passes or iterations to improve accuracy\n"
          ]
        },
        {
          "output_type": "stream",
          "name": "stdout",
          "text": [
            "1.0000889005818408e-12\n",
            "[(19, '0.378*\"lemmatize_words\" + 0.317*\"<function\" + 0.305*\"0x7f2630d31cf0>\"'), (18, '0.363*\"0x7f2630d31cf0>\" + 0.363*\"lemmatize_words\" + 0.273*\"<function\"'), (4, '0.403*\"<function\" + 0.300*\"lemmatize_words\" + 0.297*\"0x7f2630d31cf0>\"'), (12, '0.340*\"<function\" + 0.340*\"lemmatize_words\" + 0.320*\"0x7f2630d31cf0>\"'), (17, '0.362*\"lemmatize_words\" + 0.329*\"<function\" + 0.309*\"0x7f2630d31cf0>\"'), (3, '0.392*\"<function\" + 0.332*\"0x7f2630d31cf0>\" + 0.276*\"lemmatize_words\"'), (9, '0.373*\"lemmatize_words\" + 0.319*\"0x7f2630d31cf0>\" + 0.308*\"<function\"'), (13, '0.371*\"0x7f2630d31cf0>\" + 0.366*\"lemmatize_words\" + 0.264*\"<function\"'), (16, '0.367*\"0x7f2630d31cf0>\" + 0.365*\"lemmatize_words\" + 0.268*\"<function\"'), (10, '0.389*\"0x7f2630d31cf0>\" + 0.329*\"<function\" + 0.283*\"lemmatize_words\"')]\n"
          ]
        }
      ]
    },
    {
      "cell_type": "code",
      "source": [
        "!pip install pyLDavis"
      ],
      "metadata": {
        "colab": {
          "base_uri": "https://localhost:8080/"
        },
        "id": "m57dK1O_nJLX",
        "outputId": "b82d0cfb-63b0-43d9-bc4f-ed208cd4e5f7"
      },
      "execution_count": 8,
      "outputs": [
        {
          "output_type": "stream",
          "name": "stdout",
          "text": [
            "Requirement already satisfied: pyLDavis in /usr/local/lib/python3.10/dist-packages (3.4.1)\n",
            "Requirement already satisfied: numpy>=1.24.2 in /usr/local/lib/python3.10/dist-packages (from pyLDavis) (1.25.0)\n",
            "Requirement already satisfied: scipy in /usr/local/lib/python3.10/dist-packages (from pyLDavis) (1.10.1)\n",
            "Requirement already satisfied: pandas>=2.0.0 in /usr/local/lib/python3.10/dist-packages (from pyLDavis) (2.0.3)\n",
            "Requirement already satisfied: joblib>=1.2.0 in /usr/local/lib/python3.10/dist-packages (from pyLDavis) (1.2.0)\n",
            "Requirement already satisfied: jinja2 in /usr/local/lib/python3.10/dist-packages (from pyLDavis) (3.1.2)\n",
            "Requirement already satisfied: numexpr in /usr/local/lib/python3.10/dist-packages (from pyLDavis) (2.8.4)\n",
            "Requirement already satisfied: funcy in /usr/local/lib/python3.10/dist-packages (from pyLDavis) (2.0)\n",
            "Requirement already satisfied: scikit-learn>=1.0.0 in /usr/local/lib/python3.10/dist-packages (from pyLDavis) (1.2.2)\n",
            "Requirement already satisfied: gensim in /usr/local/lib/python3.10/dist-packages (from pyLDavis) (4.3.1)\n",
            "Requirement already satisfied: setuptools in /usr/local/lib/python3.10/dist-packages (from pyLDavis) (67.7.2)\n",
            "Requirement already satisfied: python-dateutil>=2.8.2 in /usr/local/lib/python3.10/dist-packages (from pandas>=2.0.0->pyLDavis) (2.8.2)\n",
            "Requirement already satisfied: pytz>=2020.1 in /usr/local/lib/python3.10/dist-packages (from pandas>=2.0.0->pyLDavis) (2022.7.1)\n",
            "Requirement already satisfied: tzdata>=2022.1 in /usr/local/lib/python3.10/dist-packages (from pandas>=2.0.0->pyLDavis) (2023.3)\n",
            "Requirement already satisfied: threadpoolctl>=2.0.0 in /usr/local/lib/python3.10/dist-packages (from scikit-learn>=1.0.0->pyLDavis) (3.1.0)\n",
            "Requirement already satisfied: smart-open>=1.8.1 in /usr/local/lib/python3.10/dist-packages (from gensim->pyLDavis) (6.3.0)\n",
            "Requirement already satisfied: MarkupSafe>=2.0 in /usr/local/lib/python3.10/dist-packages (from jinja2->pyLDavis) (2.1.3)\n",
            "Requirement already satisfied: six>=1.5 in /usr/local/lib/python3.10/dist-packages (from python-dateutil>=2.8.2->pandas>=2.0.0->pyLDavis) (1.16.0)\n"
          ]
        }
      ]
    },
    {
      "cell_type": "code",
      "source": [
        "\n",
        "import pyLDAvis\n",
        "import pyLDAvis.gensim_models as gensimvis\n",
        "\n",
        "vis_data = gensimvis.prepare(model, corpus_tf, id2word)\n",
        "pyLDAvis.display(vis_data)"
      ],
      "metadata": {
        "colab": {
          "base_uri": "https://localhost:8080/",
          "height": 916
        },
        "id": "J1Ys3fcHnRPQ",
        "outputId": "8164e510-59ff-4cae-e02f-0d140b53f46b"
      },
      "execution_count": 10,
      "outputs": [
        {
          "output_type": "stream",
          "name": "stderr",
          "text": [
            "/usr/local/lib/python3.10/dist-packages/ipykernel/ipkernel.py:283: DeprecationWarning: `should_run_async` will not call `transform_cell` automatically in the future. Please pass the result to `transformed_cell` argument and any exception that happen during thetransform in `preprocessing_exc_tuple` in IPython 7.17 and above.\n",
            "  and should_run_async(code)\n"
          ]
        },
        {
          "output_type": "execute_result",
          "data": {
            "text/plain": [
              "<IPython.core.display.HTML object>"
            ],
            "text/html": [
              "\n",
              "<link rel=\"stylesheet\" type=\"text/css\" href=\"https://cdn.jsdelivr.net/gh/bmabey/pyLDAvis@3.4.0/pyLDAvis/js/ldavis.v1.0.0.css\">\n",
              "\n",
              "\n",
              "<div id=\"ldavis_el135111398019037414408168077488\" style=\"background-color:white;\"></div>\n",
              "<script type=\"text/javascript\">\n",
              "\n",
              "var ldavis_el135111398019037414408168077488_data = {\"mdsDat\": {\"x\": [0.0012666860111055288, 0.0015966604275282675, 0.0048851072575471655, 0.005474341145033806, -0.0005407599989899355, -0.001057235434303341, 0.0005506616365336368, -0.00014355301578774742, 0.0032100708304296484, -0.0006536842081610129, -0.0004659128646622713, -0.0013569656975268673, 0.0011859739139119488, 0.0007222992458059845, 0.0005877673580680439, -0.005311604236347701, 0.00018976993396059276, -0.0038951541010045533, -0.0046418921636421214, -0.0016025760394990833], \"y\": [0.00022873347493088938, 0.0005821078179861633, -0.00106866807895899, 0.0018464958997695712, -0.002547145264317763, 0.00026428118759782594, -0.0036228549364789244, -0.0006187201025499578, -0.0021979523857824515, 0.002662614096420211, 0.0012488817636914387, 0.002251525971504482, -0.0004926672937085059, 0.0015696421948294477, 0.00015229445711924678, -0.0007871937340487869, 0.00021387321446386833, -0.0004774561579708309, -0.0005538744079244684, 0.0013460822834275344], \"topics\": [1, 2, 3, 4, 5, 6, 7, 8, 9, 10, 11, 12, 13, 14, 15, 16, 17, 18, 19, 20], \"cluster\": [1, 1, 1, 1, 1, 1, 1, 1, 1, 1, 1, 1, 1, 1, 1, 1, 1, 1, 1, 1], \"Freq\": [5.000024989552877, 5.000021456223356, 5.000016292577204, 5.000015208575019, 5.000014719025645, 5.000010885901462, 5.000008655896725, 5.000005768944912, 5.0000037128243715, 5.000001352826298, 5.000001148057159, 4.999991803057459, 4.999990314554733, 4.999989706569181, 4.9999888260520065, 4.999986772532649, 4.999984523233055, 4.999983834940069, 4.999983512129869, 4.99997651652595]}, \"tinfo\": {\"Term\": [\"<function\", \"lemmatize_words\", \"0x7f2630d31cf0>\", \"<function\", \"lemmatize_words\", \"0x7f2630d31cf0>\", \"<function\", \"lemmatize_words\", \"0x7f2630d31cf0>\", \"<function\", \"0x7f2630d31cf0>\", \"lemmatize_words\", \"<function\", \"lemmatize_words\", \"0x7f2630d31cf0>\", \"0x7f2630d31cf0>\", \"<function\", \"lemmatize_words\", \"lemmatize_words\", \"0x7f2630d31cf0>\", \"<function\", \"0x7f2630d31cf0>\", \"<function\", \"lemmatize_words\", \"0x7f2630d31cf0>\", \"<function\", \"lemmatize_words\", \"<function\", \"0x7f2630d31cf0>\", \"lemmatize_words\", \"lemmatize_words\", \"<function\", \"0x7f2630d31cf0>\", \"lemmatize_words\", \"<function\", \"0x7f2630d31cf0>\", \"lemmatize_words\", \"<function\", \"0x7f2630d31cf0>\", \"<function\", \"0x7f2630d31cf0>\", \"lemmatize_words\", \"<function\", \"lemmatize_words\", \"0x7f2630d31cf0>\", \"<function\", \"lemmatize_words\", \"0x7f2630d31cf0>\", \"0x7f2630d31cf0>\", \"lemmatize_words\", \"<function\", \"<function\", \"lemmatize_words\", \"0x7f2630d31cf0>\", \"0x7f2630d31cf0>\", \"lemmatize_words\", \"<function\", \"0x7f2630d31cf0>\", \"lemmatize_words\", \"<function\", \"lemmatize_words\", \"0x7f2630d31cf0>\", \"<function\"], \"Freq\": [11311.0, 11316.0, 11314.0, 614.1533171626938, 543.5634351693583, 539.3917803606927, 623.2892964004537, 546.1789822597393, 527.6390041720719, 665.4605297255722, 564.0162577091838, 467.62874275273157, 683.6472070473765, 509.96245895542495, 503.4954962526646, 652.0662910938132, 530.2758681377319, 514.7627862834023, 606.2629916339628, 562.8519576762732, 527.9887457433713, 659.4579236987717, 557.6322491399278, 480.0128158843085, 588.2278730252687, 554.7204793720264, 554.1536058589198, 631.151642074797, 601.9746622148512, 463.9749560781327, 634.3724250665545, 561.2191521020011, 501.50893274621404, 614.6531293880385, 558.8685888519822, 523.5787221720057, 640.8151837181701, 538.6676235089499, 517.6143095726984, 606.8175064735686, 570.1714320714369, 520.1077236046707, 598.6817516641287, 592.4994716494058, 505.9152324736919, 592.3381771077504, 561.3216826233063, 543.4362466136307, 629.2343403417208, 620.53750797916, 447.3237127504708, 577.1768493840984, 576.1825489700133, 543.7352475278542, 616.848334386316, 616.1096014981252, 464.13657753184907, 622.1301382737762, 619.9803478188056, 454.98381660076114, 633.0138533465231, 540.8484370067973, 523.2296884695656], \"Total\": [11311.0, 11316.0, 11314.0, 11311.76277924908, 11316.094250538754, 11314.142619389735, 11311.76277924908, 11316.094250538754, 11314.142619389735, 11311.76277924908, 11314.142619389735, 11316.094250538754, 11311.76277924908, 11316.094250538754, 11314.142619389735, 11314.142619389735, 11311.76277924908, 11316.094250538754, 11316.094250538754, 11314.142619389735, 11311.76277924908, 11314.142619389735, 11311.76277924908, 11316.094250538754, 11314.142619389735, 11311.76277924908, 11316.094250538754, 11311.76277924908, 11314.142619389735, 11316.094250538754, 11316.094250538754, 11311.76277924908, 11314.142619389735, 11316.094250538754, 11311.76277924908, 11314.142619389735, 11316.094250538754, 11311.76277924908, 11314.142619389735, 11311.76277924908, 11314.142619389735, 11316.094250538754, 11311.76277924908, 11316.094250538754, 11314.142619389735, 11311.76277924908, 11316.094250538754, 11314.142619389735, 11314.142619389735, 11316.094250538754, 11311.76277924908, 11311.76277924908, 11316.094250538754, 11314.142619389735, 11314.142619389735, 11316.094250538754, 11311.76277924908, 11314.142619389735, 11316.094250538754, 11311.76277924908, 11316.094250538754, 11314.142619389735, 11311.76277924908], \"Category\": [\"Default\", \"Default\", \"Default\", \"Topic1\", \"Topic1\", \"Topic1\", \"Topic2\", \"Topic2\", \"Topic2\", \"Topic3\", \"Topic3\", \"Topic3\", \"Topic4\", \"Topic4\", \"Topic4\", \"Topic5\", \"Topic5\", \"Topic5\", \"Topic6\", \"Topic6\", \"Topic6\", \"Topic7\", \"Topic7\", \"Topic7\", \"Topic8\", \"Topic8\", \"Topic8\", \"Topic9\", \"Topic9\", \"Topic9\", \"Topic10\", \"Topic10\", \"Topic10\", \"Topic11\", \"Topic11\", \"Topic11\", \"Topic12\", \"Topic12\", \"Topic12\", \"Topic13\", \"Topic13\", \"Topic13\", \"Topic14\", \"Topic14\", \"Topic14\", \"Topic15\", \"Topic15\", \"Topic15\", \"Topic16\", \"Topic16\", \"Topic16\", \"Topic17\", \"Topic17\", \"Topic17\", \"Topic18\", \"Topic18\", \"Topic18\", \"Topic19\", \"Topic19\", \"Topic19\", \"Topic20\", \"Topic20\", \"Topic20\"], \"logprob\": [3.0, 2.0, 1.0, -1.0164, -1.1385, -1.1462, -1.0017, -1.1337, -1.1683, -0.9362, -1.1016, -1.289, -0.9092, -1.2023, -1.2151, -0.9565, -1.1633, -1.193, -1.0294, -1.1037, -1.1676, -0.9453, -1.113, -1.2629, -1.0596, -1.1182, -1.1192, -0.9891, -1.0365, -1.2968, -0.984, -1.1066, -1.2191, -1.0156, -1.1108, -1.176, -0.9739, -1.1476, -1.1874, -1.0284, -1.0907, -1.1826, -1.0419, -1.0523, -1.2103, -1.0526, -1.1064, -1.1388, -0.9922, -1.0061, -1.3334, -1.0785, -1.0802, -1.1382, -1.012, -1.0132, -1.2965, -1.0035, -1.007, -1.3164, -0.9862, -1.1435, -1.1767], \"loglift\": [3.0, 2.0, 1.0, 0.0824, -0.0401, -0.0476, 0.0971, -0.0353, -0.0697, 0.1626, -0.003, -0.1906, 0.1896, -0.1039, -0.1165, 0.1421, -0.0645, -0.0945, 0.0691, -0.0051, -0.0688, 0.1533, -0.0142, -0.1644, 0.039, -0.0194, -0.0208, 0.1097, 0.0621, -0.1984, 0.1144, -0.0078, -0.1205, 0.0828, -0.012, -0.0774, 0.1245, -0.0488, -0.0888, 0.0704, 0.0079, -0.0842, 0.0569, 0.0461, -0.1117, 0.0462, -0.008, -0.0402, 0.1064, 0.0923, -0.2346, 0.0203, 0.0182, -0.0396, 0.0865, 0.0852, -0.1977, 0.0951, 0.0914, -0.2176, 0.1122, -0.0449, -0.0778]}, \"token.table\": {\"Topic\": [1, 2, 3, 4, 5, 6, 7, 8, 9, 10, 11, 12, 13, 14, 15, 16, 17, 18, 19, 20, 1, 2, 3, 4, 5, 6, 7, 8, 9, 10, 11, 12, 13, 14, 15, 16, 17, 18, 19, 20, 1, 2, 3, 4, 5, 6, 7, 8, 9, 10, 11, 12, 13, 14, 15, 16, 17, 18, 19, 20], \"Freq\": [0.04763949139869272, 0.04666725688035205, 0.04984911530401242, 0.04445763297503235, 0.05762699145073776, 0.04976073034779963, 0.058245686144227274, 0.05197035425311933, 0.053207743640098365, 0.044369248018819564, 0.0463137170555009, 0.045783407318224174, 0.050379425041289144, 0.04472278784367072, 0.04799303122354387, 0.05559413745784364, 0.04808141617975666, 0.05453351798329018, 0.05497544276435412, 0.0478162613111183, 0.05427978043584466, 0.055075412396630656, 0.058788361546965304, 0.06046802901973574, 0.046853882135175356, 0.046677075032778466, 0.04932918156873179, 0.04906397091513646, 0.055782640806218205, 0.04959439222232712, 0.04941758511993023, 0.047649514095961354, 0.053660955577455545, 0.052953727167867996, 0.05233490230947889, 0.039516387385704496, 0.05100884904150223, 0.04101924775607805, 0.04022361579529205, 0.04623505727678624, 0.04807312381426131, 0.04824986324004903, 0.04135702563432774, 0.045068553575869974, 0.04551040214033929, 0.05355204601368079, 0.042417462189054095, 0.04895682094319993, 0.04100354678275229, 0.056026397974708944, 0.05434737342972556, 0.056644985964965984, 0.0459522507048086, 0.05231487003316671, 0.04957540893345697, 0.05487759170708873, 0.05090095462686491, 0.05443574314261942, 0.05478922199419487, 0.055938028261815084], \"Term\": [\"0x7f2630d31cf0>\", \"0x7f2630d31cf0>\", \"0x7f2630d31cf0>\", \"0x7f2630d31cf0>\", \"0x7f2630d31cf0>\", \"0x7f2630d31cf0>\", \"0x7f2630d31cf0>\", \"0x7f2630d31cf0>\", \"0x7f2630d31cf0>\", \"0x7f2630d31cf0>\", \"0x7f2630d31cf0>\", \"0x7f2630d31cf0>\", \"0x7f2630d31cf0>\", \"0x7f2630d31cf0>\", \"0x7f2630d31cf0>\", \"0x7f2630d31cf0>\", \"0x7f2630d31cf0>\", \"0x7f2630d31cf0>\", \"0x7f2630d31cf0>\", \"0x7f2630d31cf0>\", \"<function\", \"<function\", \"<function\", \"<function\", \"<function\", \"<function\", \"<function\", \"<function\", \"<function\", \"<function\", \"<function\", \"<function\", \"<function\", \"<function\", \"<function\", \"<function\", \"<function\", \"<function\", \"<function\", \"<function\", \"lemmatize_words\", \"lemmatize_words\", \"lemmatize_words\", \"lemmatize_words\", \"lemmatize_words\", \"lemmatize_words\", \"lemmatize_words\", \"lemmatize_words\", \"lemmatize_words\", \"lemmatize_words\", \"lemmatize_words\", \"lemmatize_words\", \"lemmatize_words\", \"lemmatize_words\", \"lemmatize_words\", \"lemmatize_words\", \"lemmatize_words\", \"lemmatize_words\", \"lemmatize_words\", \"lemmatize_words\"]}, \"R\": 3, \"lambda.step\": 0.01, \"plot.opts\": {\"xlab\": \"PC1\", \"ylab\": \"PC2\"}, \"topic.order\": [3, 8, 4, 5, 6, 7, 11, 1, 16, 9, 18, 20, 15, 2, 12, 14, 13, 19, 17, 10]};\n",
              "\n",
              "function LDAvis_load_lib(url, callback){\n",
              "  var s = document.createElement('script');\n",
              "  s.src = url;\n",
              "  s.async = true;\n",
              "  s.onreadystatechange = s.onload = callback;\n",
              "  s.onerror = function(){console.warn(\"failed to load library \" + url);};\n",
              "  document.getElementsByTagName(\"head\")[0].appendChild(s);\n",
              "}\n",
              "\n",
              "if(typeof(LDAvis) !== \"undefined\"){\n",
              "   // already loaded: just create the visualization\n",
              "   !function(LDAvis){\n",
              "       new LDAvis(\"#\" + \"ldavis_el135111398019037414408168077488\", ldavis_el135111398019037414408168077488_data);\n",
              "   }(LDAvis);\n",
              "}else if(typeof define === \"function\" && define.amd){\n",
              "   // require.js is available: use it to load d3/LDAvis\n",
              "   require.config({paths: {d3: \"https://d3js.org/d3.v5\"}});\n",
              "   require([\"d3\"], function(d3){\n",
              "      window.d3 = d3;\n",
              "      LDAvis_load_lib(\"https://cdn.jsdelivr.net/gh/bmabey/pyLDAvis@3.4.0/pyLDAvis/js/ldavis.v3.0.0.js\", function(){\n",
              "        new LDAvis(\"#\" + \"ldavis_el135111398019037414408168077488\", ldavis_el135111398019037414408168077488_data);\n",
              "      });\n",
              "    });\n",
              "}else{\n",
              "    // require.js not available: dynamically load d3 & LDAvis\n",
              "    LDAvis_load_lib(\"https://d3js.org/d3.v5.js\", function(){\n",
              "         LDAvis_load_lib(\"https://cdn.jsdelivr.net/gh/bmabey/pyLDAvis@3.4.0/pyLDAvis/js/ldavis.v3.0.0.js\", function(){\n",
              "                 new LDAvis(\"#\" + \"ldavis_el135111398019037414408168077488\", ldavis_el135111398019037414408168077488_data);\n",
              "            })\n",
              "         });\n",
              "}\n",
              "</script>"
            ]
          },
          "metadata": {},
          "execution_count": 10
        }
      ]
    }
  ]
}